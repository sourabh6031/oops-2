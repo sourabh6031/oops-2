{
 "cells": [
  {
   "cell_type": "code",
   "execution_count": 1,
   "id": "229c0a7a",
   "metadata": {},
   "outputs": [],
   "source": [
    "class car:\n",
    "    def __init__(self,name,milage):\n",
    "        self.name = name\n",
    "        self.milage = milage\n",
    "        \n",
    "    def brand_name(self):\n",
    "        if 'Tata' in self.name:\n",
    "            print('Tata')\n",
    "        else:\n",
    "            print('Others')\n",
    "            \n",
    "    def locomotion(self):\n",
    "        if 'Tata' in self.name:\n",
    "            print('vroom vroom')\n",
    "        else:\n",
    "            print('Zzzz...')"
   ]
  },
  {
   "cell_type": "code",
   "execution_count": 9,
   "id": "fa7a2822",
   "metadata": {},
   "outputs": [],
   "source": [
    "a1 = car('Tata',25)"
   ]
  },
  {
   "cell_type": "code",
   "execution_count": 10,
   "id": "68e56d0f",
   "metadata": {},
   "outputs": [
    {
     "name": "stdout",
     "output_type": "stream",
     "text": [
      "Tata\n"
     ]
    }
   ],
   "source": [
    "a1.brand_name()"
   ]
  },
  {
   "cell_type": "code",
   "execution_count": 11,
   "id": "32362297",
   "metadata": {},
   "outputs": [
    {
     "name": "stdout",
     "output_type": "stream",
     "text": [
      "vroom vroom\n"
     ]
    }
   ],
   "source": [
    "a1.locomotion() "
   ]
  },
  {
   "cell_type": "code",
   "execution_count": null,
   "id": "3f103ba2",
   "metadata": {},
   "outputs": [],
   "source": []
  },
  {
   "cell_type": "code",
   "execution_count": null,
   "id": "8cbaaaba",
   "metadata": {},
   "outputs": [],
   "source": []
  },
  {
   "cell_type": "markdown",
   "id": "31eecc31",
   "metadata": {},
   "source": [
    "### DUNDER METHOD / MAGIC METHOD\n",
    "- Dunder methods, Dunder here means “Double Under (Underscores)"
   ]
  },
  {
   "cell_type": "markdown",
   "id": "23878b03",
   "metadata": {},
   "source": [
    "- `__INIT__`\n",
    "- `__ADD__`\n",
    "- `__STR__`\n",
    "- `__IT__`\n",
    "- etc"
   ]
  },
  {
   "cell_type": "code",
   "execution_count": null,
   "id": "1e29fdac",
   "metadata": {},
   "outputs": [],
   "source": []
  },
  {
   "cell_type": "code",
   "execution_count": null,
   "id": "555398d2",
   "metadata": {},
   "outputs": [],
   "source": [
    "# what change do I need to make to get 6th line printed"
   ]
  },
  {
   "cell_type": "code",
   "execution_count": 27,
   "id": "2902d57e",
   "metadata": {},
   "outputs": [],
   "source": [
    "class car:\n",
    "    def __init__(self,name,milage):\n",
    "        self.name = name\n",
    "        self.milage = milage\n",
    "    \n",
    "    # whenever object is printed ,__str__() function is called\n",
    "    def ssdf(self):\n",
    "        print(self.name)"
   ]
  },
  {
   "cell_type": "code",
   "execution_count": 28,
   "id": "e85fb0ae",
   "metadata": {},
   "outputs": [],
   "source": [
    "c2 = car('tata',25)"
   ]
  },
  {
   "cell_type": "code",
   "execution_count": 29,
   "id": "40024012",
   "metadata": {},
   "outputs": [
    {
     "name": "stdout",
     "output_type": "stream",
     "text": [
      "<bound method car.s of <__main__.car object at 0x000002087C268F10>>\n"
     ]
    }
   ],
   "source": [
    "print(c2.s)"
   ]
  },
  {
   "cell_type": "code",
   "execution_count": null,
   "id": "364bce7e",
   "metadata": {},
   "outputs": [],
   "source": []
  },
  {
   "cell_type": "code",
   "execution_count": null,
   "id": "d634ba0d",
   "metadata": {},
   "outputs": [],
   "source": [
    "# what change do I need to make to get 6th line 'print this' printed"
   ]
  },
  {
   "cell_type": "code",
   "execution_count": 30,
   "id": "4bd2789f",
   "metadata": {},
   "outputs": [],
   "source": [
    "class car:\n",
    "    def __init__(self,name,milage):\n",
    "        self.name = name\n",
    "        self.milage = milage\n",
    "        \n",
    "    def brand_name(self):\n",
    "        print('print this')\n",
    "            \n",
    "    "
   ]
  },
  {
   "cell_type": "code",
   "execution_count": 32,
   "id": "9d41fbe2",
   "metadata": {},
   "outputs": [],
   "source": [
    "c3 = car('honda',30)"
   ]
  },
  {
   "cell_type": "code",
   "execution_count": 34,
   "id": "f222a2cd",
   "metadata": {},
   "outputs": [
    {
     "name": "stdout",
     "output_type": "stream",
     "text": [
      "<bound method car.brand_name of <__main__.car object at 0x000002087C2CE610>>\n"
     ]
    }
   ],
   "source": [
    "print(c3.brand_name)"
   ]
  },
  {
   "cell_type": "code",
   "execution_count": null,
   "id": "fce4e55c",
   "metadata": {},
   "outputs": [],
   "source": []
  },
  {
   "cell_type": "code",
   "execution_count": null,
   "id": "2a84f0f9",
   "metadata": {},
   "outputs": [],
   "source": [
    "#----------------------------------------------------------------------------"
   ]
  },
  {
   "cell_type": "code",
   "execution_count": null,
   "id": "42eca0a6",
   "metadata": {},
   "outputs": [],
   "source": []
  },
  {
   "cell_type": "markdown",
   "id": "29891d19",
   "metadata": {},
   "source": [
    "`__ADD__`"
   ]
  },
  {
   "cell_type": "code",
   "execution_count": 35,
   "id": "632e7556",
   "metadata": {},
   "outputs": [],
   "source": [
    "# PYTHON DEFAULT FUNCTION FOR '+' ADD/PLUS FOR INTEGER\n",
    "# IT CAN BE CHANGED BY OUR WILL\n",
    "\n",
    "class demo:\n",
    "    def __init__(self,name,number):\n",
    "        self.name = name\n",
    "        self.number = number\n",
    "        \n",
    "    def __add__(self,other):\n",
    "        return self.number - other.number # CHANGED '+' INTO '-'"
   ]
  },
  {
   "cell_type": "code",
   "execution_count": 37,
   "id": "0b3e5f3d",
   "metadata": {},
   "outputs": [],
   "source": [
    "demo1 = demo('sourabh',30)\n",
    "demo2 = demo('kumar',10)"
   ]
  },
  {
   "cell_type": "code",
   "execution_count": 38,
   "id": "eb4525e0",
   "metadata": {},
   "outputs": [
    {
     "data": {
      "text/plain": [
       "20"
      ]
     },
     "execution_count": 38,
     "metadata": {},
     "output_type": "execute_result"
    }
   ],
   "source": [
    "# DUE TO ABOVE CHANGE IN '-' SIGN IT GETS SUBTRACTED.\n",
    "demo1 + demo2"
   ]
  },
  {
   "cell_type": "code",
   "execution_count": null,
   "id": "5edbe0b9",
   "metadata": {},
   "outputs": [],
   "source": []
  },
  {
   "cell_type": "code",
   "execution_count": null,
   "id": "8e89194f",
   "metadata": {},
   "outputs": [],
   "source": []
  },
  {
   "cell_type": "markdown",
   "id": "f303f85a",
   "metadata": {},
   "source": [
    "`__lt__`\n",
    "#### LESS THAN"
   ]
  },
  {
   "cell_type": "code",
   "execution_count": null,
   "id": "25870604",
   "metadata": {},
   "outputs": [],
   "source": []
  },
  {
   "cell_type": "code",
   "execution_count": null,
   "id": "e6cf3ad1",
   "metadata": {},
   "outputs": [],
   "source": [
    "# PYTHON DEFAULT FUNCTION TO CHECK IF FIRST NUMBER IS GREATER THAN SECOND ONE ?"
   ]
  },
  {
   "cell_type": "code",
   "execution_count": 45,
   "id": "7f37337c",
   "metadata": {},
   "outputs": [],
   "source": [
    "class demoo:\n",
    "    def __init__(self,name,number):\n",
    "        self.name = name\n",
    "        self.number = number\n",
    "        \n",
    "    def __lt__(self,other):\n",
    "        return self.number < other.number"
   ]
  },
  {
   "cell_type": "code",
   "execution_count": 46,
   "id": "6c551025",
   "metadata": {},
   "outputs": [],
   "source": [
    "demo3 = demoo('sourabh',30)\n",
    "demo4 = demoo('kumar',10)"
   ]
  },
  {
   "cell_type": "code",
   "execution_count": 47,
   "id": "ecbec29e",
   "metadata": {},
   "outputs": [
    {
     "data": {
      "text/plain": [
       "False"
      ]
     },
     "execution_count": 47,
     "metadata": {},
     "output_type": "execute_result"
    }
   ],
   "source": [
    "demo3<demo4"
   ]
  },
  {
   "cell_type": "code",
   "execution_count": null,
   "id": "d6a024dd",
   "metadata": {},
   "outputs": [],
   "source": []
  },
  {
   "cell_type": "code",
   "execution_count": null,
   "id": "1afeab08",
   "metadata": {},
   "outputs": [],
   "source": [
    "# ------------------------------------------------------------------------------------"
   ]
  },
  {
   "cell_type": "code",
   "execution_count": null,
   "id": "a529d08e",
   "metadata": {},
   "outputs": [],
   "source": []
  },
  {
   "cell_type": "code",
   "execution_count": 48,
   "id": "0531ebf5",
   "metadata": {},
   "outputs": [],
   "source": [
    "class Car:\n",
    "    def __init__(self,name,mileage):\n",
    "        self.name = name\n",
    "        self.mileage = mileage\n",
    "        \n",
    "    # when object is printed __str__ function is called\n",
    "    def __str__(self):\n",
    "        return f\"This car is {self.name} and it has a mileage of {self.mileage}.\"\n",
    "    \n",
    "    \n",
    "    # to enable the use of addition operator\n",
    "    #def __add__(self,other):\n",
    "     #   return self.mileage + other.mileage\n",
    "        \n",
    "    def __add__(self,other):\n",
    "        mileage =  self.mileage + other.mileage    \n",
    "        return Car('xyz',mileage)"
   ]
  },
  {
   "cell_type": "code",
   "execution_count": 49,
   "id": "d44a42b5",
   "metadata": {},
   "outputs": [],
   "source": [
    "x1 = Car('thar',10)\n",
    "x2 = Car('punch',30)"
   ]
  },
  {
   "cell_type": "code",
   "execution_count": 50,
   "id": "e901bfe8",
   "metadata": {},
   "outputs": [
    {
     "name": "stdout",
     "output_type": "stream",
     "text": [
      "This car is thar and it has a mileage of 10.\n"
     ]
    }
   ],
   "source": [
    "# output is due to __str__ function.\n",
    "print(x1)"
   ]
  },
  {
   "cell_type": "code",
   "execution_count": 51,
   "id": "2e4261ae",
   "metadata": {},
   "outputs": [],
   "source": [
    "# due to '+' the code of command will go to __add__ function, there mileage will be 40.\n",
    "# in next line Class 'Car' is passed with 'xyz' as a name parameter and and newly calculated as mileage parameter.\n",
    "# after the 'Car' class is called self.name and self.mileage will be replaced with 'xyz' and 40 respectively.\n",
    "\n",
    "car_add = x1 + x2"
   ]
  },
  {
   "cell_type": "code",
   "execution_count": 52,
   "id": "b1377b1c",
   "metadata": {},
   "outputs": [
    {
     "name": "stdout",
     "output_type": "stream",
     "text": [
      "This car is xyz and it has a mileage of 40.\n"
     ]
    }
   ],
   "source": [
    "# after all the above process are done,\n",
    "# due to print() function -> 'print(car_add)' , the code of command will go to __str__.\n",
    "# that will print the string with self.name ('xyz') and self.mileage (40).\n",
    "\n",
    "print(car_add)"
   ]
  },
  {
   "cell_type": "code",
   "execution_count": null,
   "id": "b12968c7",
   "metadata": {},
   "outputs": [],
   "source": []
  },
  {
   "cell_type": "code",
   "execution_count": 53,
   "id": "02cb6d12",
   "metadata": {},
   "outputs": [],
   "source": [
    "final_add = x1+x2+Car('abc',10)"
   ]
  },
  {
   "cell_type": "code",
   "execution_count": 54,
   "id": "e2452275",
   "metadata": {},
   "outputs": [
    {
     "name": "stdout",
     "output_type": "stream",
     "text": [
      "This car is xyz and it has a mileage of 50.\n"
     ]
    }
   ],
   "source": [
    "print(final_add)"
   ]
  },
  {
   "cell_type": "code",
   "execution_count": null,
   "id": "5b40d5fb",
   "metadata": {},
   "outputs": [],
   "source": []
  },
  {
   "cell_type": "code",
   "execution_count": null,
   "id": "ddca36b0",
   "metadata": {},
   "outputs": [],
   "source": []
  },
  {
   "cell_type": "code",
   "execution_count": null,
   "id": "4b702215",
   "metadata": {},
   "outputs": [],
   "source": []
  },
  {
   "cell_type": "code",
   "execution_count": 55,
   "id": "c01aac9e",
   "metadata": {},
   "outputs": [],
   "source": [
    "#------------------------------------------------------------------------------------"
   ]
  },
  {
   "cell_type": "markdown",
   "id": "5ab711ca",
   "metadata": {},
   "source": [
    "### INHERITANCE"
   ]
  },
  {
   "cell_type": "code",
   "execution_count": null,
   "id": "03eea47a",
   "metadata": {},
   "outputs": [],
   "source": []
  },
  {
   "cell_type": "code",
   "execution_count": null,
   "id": "3cf6813a",
   "metadata": {},
   "outputs": [],
   "source": [
    "# start class name with capital letters or we use camel case"
   ]
  },
  {
   "cell_type": "code",
   "execution_count": null,
   "id": "e14e18a8",
   "metadata": {},
   "outputs": [],
   "source": []
  },
  {
   "cell_type": "code",
   "execution_count": 82,
   "id": "047da0f1",
   "metadata": {},
   "outputs": [],
   "source": [
    "class SchoolMember:\n",
    "    def __init__(self,name):     #-Parent_Class\n",
    "        self.name = name\n",
    "        \n",
    "class Student(SchoolMember):     #inheriting parent class, - Child1\n",
    "    def __init__(self,name,grade):\n",
    "        super().__init__(name)\n",
    "        self.grade = grade\n",
    "        \n",
    "class Staff(SchoolMember):       #inheriting parent class  -Child2\n",
    "    def __init__(self,name,salary):\n",
    "        super().__init__(name)\n",
    "        self.salary = salary\n",
    "        \n",
    "class Teacher(Staff):\n",
    "    def __init__(self,name,salary,subject):  #-Child3\n",
    "        super().__init__(name,salary)\n",
    "        self.subject = subject\n",
    "    "
   ]
  },
  {
   "cell_type": "code",
   "execution_count": 64,
   "id": "bf664fb1",
   "metadata": {},
   "outputs": [],
   "source": [
    "s1 = Student('Krishna','A')"
   ]
  },
  {
   "cell_type": "code",
   "execution_count": 65,
   "id": "b88c2830",
   "metadata": {},
   "outputs": [
    {
     "data": {
      "text/plain": [
       "'A'"
      ]
     },
     "execution_count": 65,
     "metadata": {},
     "output_type": "execute_result"
    }
   ],
   "source": [
    "s1.grade"
   ]
  },
  {
   "cell_type": "code",
   "execution_count": 60,
   "id": "51045a93",
   "metadata": {},
   "outputs": [
    {
     "ename": "AttributeError",
     "evalue": "'Student' object has no attribute 'name'",
     "output_type": "error",
     "traceback": [
      "\u001b[1;31m---------------------------------------------------------------------------\u001b[0m",
      "\u001b[1;31mAttributeError\u001b[0m                            Traceback (most recent call last)",
      "Input \u001b[1;32mIn [60]\u001b[0m, in \u001b[0;36m<cell line: 1>\u001b[1;34m()\u001b[0m\n\u001b[1;32m----> 1\u001b[0m \u001b[43ms1\u001b[49m\u001b[38;5;241;43m.\u001b[39;49m\u001b[43mname\u001b[49m\n",
      "\u001b[1;31mAttributeError\u001b[0m: 'Student' object has no attribute 'name'"
     ]
    }
   ],
   "source": [
    "# name is from Parent_Class, we directly cant use it. we need to use 'super().__init__('inheriting_variable')'\n",
    "# before\n",
    "s1.name"
   ]
  },
  {
   "cell_type": "code",
   "execution_count": 66,
   "id": "328c386d",
   "metadata": {},
   "outputs": [
    {
     "data": {
      "text/plain": [
       "'Krishna'"
      ]
     },
     "execution_count": 66,
     "metadata": {},
     "output_type": "execute_result"
    }
   ],
   "source": [
    "# after\n",
    "s1.name"
   ]
  },
  {
   "cell_type": "code",
   "execution_count": null,
   "id": "9ba492f3",
   "metadata": {},
   "outputs": [],
   "source": []
  },
  {
   "cell_type": "code",
   "execution_count": 79,
   "id": "6eb50f3d",
   "metadata": {},
   "outputs": [],
   "source": [
    "s4 = Teacher('sourabh',50,'DS')"
   ]
  },
  {
   "cell_type": "code",
   "execution_count": 80,
   "id": "f7a892cb",
   "metadata": {},
   "outputs": [
    {
     "data": {
      "text/plain": [
       "'DS'"
      ]
     },
     "execution_count": 80,
     "metadata": {},
     "output_type": "execute_result"
    }
   ],
   "source": [
    "s4.subject"
   ]
  },
  {
   "cell_type": "code",
   "execution_count": 81,
   "id": "7fef41a1",
   "metadata": {},
   "outputs": [
    {
     "data": {
      "text/plain": [
       "50"
      ]
     },
     "execution_count": 81,
     "metadata": {},
     "output_type": "execute_result"
    }
   ],
   "source": [
    "s4.salary"
   ]
  },
  {
   "cell_type": "code",
   "execution_count": null,
   "id": "dd884ff8",
   "metadata": {},
   "outputs": [],
   "source": []
  },
  {
   "cell_type": "code",
   "execution_count": 83,
   "id": "49d5b154",
   "metadata": {},
   "outputs": [],
   "source": [
    "s3 = Staff('sourabh',60)"
   ]
  },
  {
   "cell_type": "code",
   "execution_count": 84,
   "id": "ae830536",
   "metadata": {},
   "outputs": [
    {
     "data": {
      "text/plain": [
       "'sourabh'"
      ]
     },
     "execution_count": 84,
     "metadata": {},
     "output_type": "execute_result"
    }
   ],
   "source": [
    "s3.name"
   ]
  },
  {
   "cell_type": "code",
   "execution_count": 85,
   "id": "28040cc2",
   "metadata": {},
   "outputs": [
    {
     "data": {
      "text/plain": [
       "60"
      ]
     },
     "execution_count": 85,
     "metadata": {},
     "output_type": "execute_result"
    }
   ],
   "source": [
    "s3.salary"
   ]
  },
  {
   "cell_type": "code",
   "execution_count": null,
   "id": "50dcf2cf",
   "metadata": {},
   "outputs": [],
   "source": []
  },
  {
   "cell_type": "code",
   "execution_count": null,
   "id": "84b9809b",
   "metadata": {},
   "outputs": [],
   "source": []
  },
  {
   "cell_type": "code",
   "execution_count": null,
   "id": "b1f839aa",
   "metadata": {},
   "outputs": [],
   "source": []
  },
  {
   "cell_type": "code",
   "execution_count": null,
   "id": "6396b434",
   "metadata": {},
   "outputs": [],
   "source": []
  },
  {
   "cell_type": "code",
   "execution_count": null,
   "id": "19feaeca",
   "metadata": {},
   "outputs": [],
   "source": []
  },
  {
   "cell_type": "code",
   "execution_count": null,
   "id": "ca563a5d",
   "metadata": {},
   "outputs": [],
   "source": []
  },
  {
   "cell_type": "code",
   "execution_count": null,
   "id": "4811abe8",
   "metadata": {},
   "outputs": [],
   "source": []
  },
  {
   "cell_type": "code",
   "execution_count": null,
   "id": "74a28732",
   "metadata": {},
   "outputs": [],
   "source": []
  },
  {
   "cell_type": "code",
   "execution_count": null,
   "id": "98a2fa82",
   "metadata": {},
   "outputs": [],
   "source": []
  },
  {
   "cell_type": "code",
   "execution_count": null,
   "id": "79647912",
   "metadata": {},
   "outputs": [],
   "source": []
  },
  {
   "cell_type": "code",
   "execution_count": null,
   "id": "10b065af",
   "metadata": {},
   "outputs": [],
   "source": []
  },
  {
   "cell_type": "code",
   "execution_count": null,
   "id": "4d10ca32",
   "metadata": {},
   "outputs": [],
   "source": []
  },
  {
   "cell_type": "code",
   "execution_count": null,
   "id": "479a198e",
   "metadata": {},
   "outputs": [],
   "source": []
  },
  {
   "cell_type": "code",
   "execution_count": null,
   "id": "1767d162",
   "metadata": {},
   "outputs": [],
   "source": []
  },
  {
   "cell_type": "code",
   "execution_count": null,
   "id": "7e844237",
   "metadata": {},
   "outputs": [],
   "source": []
  },
  {
   "cell_type": "code",
   "execution_count": null,
   "id": "f2bba50a",
   "metadata": {},
   "outputs": [],
   "source": []
  },
  {
   "cell_type": "code",
   "execution_count": null,
   "id": "bb426622",
   "metadata": {},
   "outputs": [],
   "source": []
  },
  {
   "cell_type": "code",
   "execution_count": null,
   "id": "ae360f16",
   "metadata": {},
   "outputs": [],
   "source": []
  },
  {
   "cell_type": "code",
   "execution_count": null,
   "id": "160c313d",
   "metadata": {},
   "outputs": [],
   "source": []
  },
  {
   "cell_type": "code",
   "execution_count": null,
   "id": "1bce1c49",
   "metadata": {},
   "outputs": [],
   "source": []
  },
  {
   "cell_type": "code",
   "execution_count": null,
   "id": "269a8639",
   "metadata": {},
   "outputs": [],
   "source": []
  },
  {
   "cell_type": "code",
   "execution_count": null,
   "id": "7f03e564",
   "metadata": {},
   "outputs": [],
   "source": []
  },
  {
   "cell_type": "code",
   "execution_count": null,
   "id": "e6625956",
   "metadata": {},
   "outputs": [],
   "source": []
  },
  {
   "cell_type": "code",
   "execution_count": null,
   "id": "f6ba0eea",
   "metadata": {},
   "outputs": [],
   "source": []
  },
  {
   "cell_type": "code",
   "execution_count": null,
   "id": "57d105bd",
   "metadata": {},
   "outputs": [],
   "source": []
  },
  {
   "cell_type": "code",
   "execution_count": null,
   "id": "e4122c2b",
   "metadata": {},
   "outputs": [],
   "source": []
  },
  {
   "cell_type": "code",
   "execution_count": null,
   "id": "22455df7",
   "metadata": {},
   "outputs": [],
   "source": []
  },
  {
   "cell_type": "code",
   "execution_count": null,
   "id": "a5dfa37b",
   "metadata": {},
   "outputs": [],
   "source": []
  },
  {
   "cell_type": "code",
   "execution_count": null,
   "id": "1d26dc50",
   "metadata": {},
   "outputs": [],
   "source": []
  },
  {
   "cell_type": "code",
   "execution_count": null,
   "id": "5ad262fd",
   "metadata": {},
   "outputs": [],
   "source": []
  },
  {
   "cell_type": "code",
   "execution_count": null,
   "id": "c39f1a25",
   "metadata": {},
   "outputs": [],
   "source": []
  },
  {
   "cell_type": "code",
   "execution_count": null,
   "id": "fcea6332",
   "metadata": {},
   "outputs": [],
   "source": []
  },
  {
   "cell_type": "code",
   "execution_count": null,
   "id": "0c0f7564",
   "metadata": {},
   "outputs": [],
   "source": []
  },
  {
   "cell_type": "code",
   "execution_count": null,
   "id": "06fd59ca",
   "metadata": {},
   "outputs": [],
   "source": []
  },
  {
   "cell_type": "code",
   "execution_count": null,
   "id": "7dad2a27",
   "metadata": {},
   "outputs": [],
   "source": []
  }
 ],
 "metadata": {
  "kernelspec": {
   "display_name": "Python 3 (ipykernel)",
   "language": "python",
   "name": "python3"
  },
  "language_info": {
   "codemirror_mode": {
    "name": "ipython",
    "version": 3
   },
   "file_extension": ".py",
   "mimetype": "text/x-python",
   "name": "python",
   "nbconvert_exporter": "python",
   "pygments_lexer": "ipython3",
   "version": "3.9.12"
  }
 },
 "nbformat": 4,
 "nbformat_minor": 5
}
